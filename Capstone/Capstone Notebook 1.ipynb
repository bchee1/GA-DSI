{
 "cells": [
  {
   "cell_type": "markdown",
   "metadata": {},
   "source": [
    "## Notebook for Capstone Project"
   ]
  },
  {
   "cell_type": "markdown",
   "metadata": {},
   "source": [
    "## Topic: Vision Machine Learning for Covid-19 Diagnosis\n",
    "\n",
    "### Problem Statement\n",
    "\n",
    "Given a chest X-ray image, can we classify between a Covid-19 case and a typical pneumonia case?\n",
    "\n",
    "### Motivation\n",
    "\n",
    "Chest X-rays are far more commonly available as a diagnostic tool than PCR (gold standard). If we can use Chest X-rays to diagnose, quarantine measures and treatment can be administered far more quickly\n",
    "\n",
    "\n",
    "### Models: Convolutional Neural Networks\n",
    "\n",
    "Considered one of the most well used methods for Vision Machine Learning\n",
    "other models such as Support vector machines will also be used\n",
    "\n",
    "### Risks and Assumptions:\n",
    "\n",
    "Labeled data: data that is labeled as non Covid-19 have to be taken as correctly labeled\n",
    "Risk factors are non biased: we are not missing out any omitted variable bias, such as predisposition to lung diseases due to an underlying cause that is not identifiable by the xray\n",
    "\n",
    "### Scoring\n",
    "\n",
    "Accuracy and ROC-AUC will be used since this is a classification problem\n",
    "\n",
    "### Data source\n",
    "\n",
    "https://bimcv.cipf.es/bimcv-projects/bimcv-covid19/: Medical Imaging data bank for the region of Valencia\n",
    "\n",
    "https://github.com/lindawangg/COVID-Net: main source of images with some pre processing work done"
   ]
  },
  {
   "cell_type": "markdown",
   "metadata": {},
   "source": []
  },
  {
   "cell_type": "code",
   "execution_count": null,
   "metadata": {},
   "outputs": [],
   "source": []
  }
 ],
 "metadata": {
  "kernelspec": {
   "display_name": "Python 3",
   "language": "python",
   "name": "python3"
  },
  "language_info": {
   "codemirror_mode": {
    "name": "ipython",
    "version": 3
   },
   "file_extension": ".py",
   "mimetype": "text/x-python",
   "name": "python",
   "nbconvert_exporter": "python",
   "pygments_lexer": "ipython3",
   "version": "3.8.5"
  }
 },
 "nbformat": 4,
 "nbformat_minor": 4
}
