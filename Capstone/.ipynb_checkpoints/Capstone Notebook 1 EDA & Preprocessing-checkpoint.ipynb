{
 "cells": [
  {
   "cell_type": "markdown",
   "metadata": {},
   "source": [
    "## Capstone Notebook 1\n",
    "## EDA and Image preprocessing"
   ]
  },
  {
   "cell_type": "markdown",
   "metadata": {},
   "source": [
    "This notebook covers the Exploratory Data Analysis of the BIMCV-COVID-19 Chest X-ray (CXR) dataset:\n",
    "https://github.com/BIMCV-CSUSP/BIMCV-COVID-19\n",
    "\n",
    "Code for image preprocessing is also here, which is adapted from the following file in the above repo:\n",
    "<ins>pneumo_data_generator.py</ins>"
   ]
  },
  {
   "cell_type": "markdown",
   "metadata": {},
   "source": [
    "### Import libraries"
   ]
  },
  {
   "cell_type": "code",
   "execution_count": 14,
   "metadata": {},
   "outputs": [],
   "source": [
    "import numpy as np\n",
    "import pandas as pd\n",
    "import matplotlib.pyplot as plt\n",
    "\n",
    "import tensorflow as tf\n",
    "import keras\n",
    "from keras.preprocessing.image import img_to_array\n",
    "from skimage.transform import resize\n",
    "\n",
    "from PIL import Image"
   ]
  },
  {
   "cell_type": "markdown",
   "metadata": {},
   "source": [
    "### EDA"
   ]
  },
  {
   "cell_type": "markdown",
   "metadata": {},
   "source": [
    "Start from the file list of all images: ./balanced-one-partition/pneumo_dataset_ITI_rev.tsv\n",
    "\n",
    "This TSV contains a list of all the names and features of the x-ray images contained in the .\\img folder. We will use this list as a way to track and extract the images as they are fed to the ML pipeline later. First, an exploratory analysis of the data:"
   ]
  },
  {
   "cell_type": "code",
   "execution_count": 3,
   "metadata": {},
   "outputs": [],
   "source": [
    "df_pneumo_2d = pd.read_csv('./balanced-one-partition/pneumo_dataset_ITI_rev.tsv' , sep=\"\\t\" )"
   ]
  },
  {
   "cell_type": "markdown",
   "metadata": {},
   "source": [
    "Our Target variable will be group; specifically, we are looking for patients with pneumonia. Under the data dictionary, these would be ones with 'N' or 'NI' entries in the feature 'group'"
   ]
  },
  {
   "cell_type": "code",
   "execution_count": 4,
   "metadata": {},
   "outputs": [
    {
     "data": {
      "text/plain": [
       "Index(['Unnamed: 0', 'ImageID', 'StudyDate_DICOM', 'StudyID', 'PatientID',\n",
       "       'PatientBirth', 'PatientSex_DICOM', 'ViewPosition_DICOM', 'Projection',\n",
       "       'MethodProjection', 'Pediatric', 'Modality_DICOM', 'Manufacturer_DICOM',\n",
       "       'PhotometricInterpretation_DICOM', 'PixelRepresentation_DICOM',\n",
       "       'PixelAspectRatio_DICOM', 'SpatialResolution_DICOM', 'BitsStored_DICOM',\n",
       "       'WindowCenter_DICOM', 'WindowWidth_DICOM', 'Rows_DICOM',\n",
       "       'Columns_DICOM', 'XRayTubeCurrent_DICOM', 'Exposure_DICOM',\n",
       "       'ExposureInuAs_DICOM', 'ExposureTime', 'RelativeXRayExposure_DICOM',\n",
       "       'Labels', 'group', 'Partition', 'Subject_occurrences',\n",
       "       'Partition_occurrences', 'Partitionlabel_occurrences', 'Valid',\n",
       "       'Blurry', 'Rotation_needed', 'Repeat', 'Observations'],\n",
       "      dtype='object')"
      ]
     },
     "execution_count": 4,
     "metadata": {},
     "output_type": "execute_result"
    }
   ],
   "source": [
    "df_pneumo_2d.columns"
   ]
  },
  {
   "cell_type": "markdown",
   "metadata": {},
   "source": [
    "Several other important features here:\n",
    "\n",
    "Image ID: used to select images in the .\\img folder\n",
    "Repeat: denotes a repeated image due to bluriness or otherwise invalid image\n",
    "Partition: the data owners had already partitioned the data into test (te), train (tr), and validation (dev) sets."
   ]
  },
  {
   "cell_type": "code",
   "execution_count": null,
   "metadata": {},
   "outputs": [],
   "source": [
    "features=['ImageID','Projection','group','Valid','Blurry']"
   ]
  },
  {
   "cell_type": "code",
   "execution_count": 5,
   "metadata": {},
   "outputs": [
    {
     "data": {
      "text/html": [
       "<div>\n",
       "<style scoped>\n",
       "    .dataframe tbody tr th:only-of-type {\n",
       "        vertical-align: middle;\n",
       "    }\n",
       "\n",
       "    .dataframe tbody tr th {\n",
       "        vertical-align: top;\n",
       "    }\n",
       "\n",
       "    .dataframe thead th {\n",
       "        text-align: right;\n",
       "    }\n",
       "</style>\n",
       "<table border=\"1\" class=\"dataframe\">\n",
       "  <thead>\n",
       "    <tr style=\"text-align: right;\">\n",
       "      <th></th>\n",
       "      <th>ImageID</th>\n",
       "      <th>Projection</th>\n",
       "      <th>group</th>\n",
       "      <th>Valid</th>\n",
       "      <th>Blurry</th>\n",
       "    </tr>\n",
       "  </thead>\n",
       "  <tbody>\n",
       "    <tr>\n",
       "      <th>0</th>\n",
       "      <td>126022968388682456059208259745221627283_wb7atn...</td>\n",
       "      <td>L</td>\n",
       "      <td>C</td>\n",
       "      <td>0</td>\n",
       "      <td>0</td>\n",
       "    </tr>\n",
       "    <tr>\n",
       "      <th>1</th>\n",
       "      <td>126022968388682456059208259745221627283_nul4bn...</td>\n",
       "      <td>PA</td>\n",
       "      <td>C</td>\n",
       "      <td>0</td>\n",
       "      <td>0</td>\n",
       "    </tr>\n",
       "    <tr>\n",
       "      <th>2</th>\n",
       "      <td>126022968388682456059208259745221627283_40l46j...</td>\n",
       "      <td>PA</td>\n",
       "      <td>C</td>\n",
       "      <td>1</td>\n",
       "      <td>0</td>\n",
       "    </tr>\n",
       "    <tr>\n",
       "      <th>3</th>\n",
       "      <td>126022968388682456059208259745221627283_mdr23v...</td>\n",
       "      <td>PA</td>\n",
       "      <td>C</td>\n",
       "      <td>0</td>\n",
       "      <td>0</td>\n",
       "    </tr>\n",
       "    <tr>\n",
       "      <th>4</th>\n",
       "      <td>126022968388682456059208259745221627283_eed72o...</td>\n",
       "      <td>L</td>\n",
       "      <td>C</td>\n",
       "      <td>1</td>\n",
       "      <td>0</td>\n",
       "    </tr>\n",
       "    <tr>\n",
       "      <th>...</th>\n",
       "      <td>...</td>\n",
       "      <td>...</td>\n",
       "      <td>...</td>\n",
       "      <td>...</td>\n",
       "      <td>...</td>\n",
       "    </tr>\n",
       "    <tr>\n",
       "      <th>23516</th>\n",
       "      <td>99520118437198458972509421695745364861_qsbymr.png</td>\n",
       "      <td>PA</td>\n",
       "      <td>C</td>\n",
       "      <td>1</td>\n",
       "      <td>0</td>\n",
       "    </tr>\n",
       "    <tr>\n",
       "      <th>23517</th>\n",
       "      <td>99711749323098443927719696849300549782_zqpdv1.png</td>\n",
       "      <td>PA</td>\n",
       "      <td>C</td>\n",
       "      <td>1</td>\n",
       "      <td>0</td>\n",
       "    </tr>\n",
       "    <tr>\n",
       "      <th>23518</th>\n",
       "      <td>99732995977478883316522560170983113855_q9uu8l.png</td>\n",
       "      <td>PA</td>\n",
       "      <td>C</td>\n",
       "      <td>1</td>\n",
       "      <td>0</td>\n",
       "    </tr>\n",
       "    <tr>\n",
       "      <th>23519</th>\n",
       "      <td>99829469149321466659827372110305233978_wrmsh0.png</td>\n",
       "      <td>PA</td>\n",
       "      <td>C</td>\n",
       "      <td>1</td>\n",
       "      <td>0</td>\n",
       "    </tr>\n",
       "    <tr>\n",
       "      <th>23520</th>\n",
       "      <td>99902406960705815671548533715810073618_wu5ixe.png</td>\n",
       "      <td>PA</td>\n",
       "      <td>C</td>\n",
       "      <td>1</td>\n",
       "      <td>0</td>\n",
       "    </tr>\n",
       "  </tbody>\n",
       "</table>\n",
       "<p>23521 rows × 5 columns</p>\n",
       "</div>"
      ],
      "text/plain": [
       "                                                 ImageID Projection group  \\\n",
       "0      126022968388682456059208259745221627283_wb7atn...          L     C   \n",
       "1      126022968388682456059208259745221627283_nul4bn...         PA     C   \n",
       "2      126022968388682456059208259745221627283_40l46j...         PA     C   \n",
       "3      126022968388682456059208259745221627283_mdr23v...         PA     C   \n",
       "4      126022968388682456059208259745221627283_eed72o...          L     C   \n",
       "...                                                  ...        ...   ...   \n",
       "23516  99520118437198458972509421695745364861_qsbymr.png         PA     C   \n",
       "23517  99711749323098443927719696849300549782_zqpdv1.png         PA     C   \n",
       "23518  99732995977478883316522560170983113855_q9uu8l.png         PA     C   \n",
       "23519  99829469149321466659827372110305233978_wrmsh0.png         PA     C   \n",
       "23520  99902406960705815671548533715810073618_wu5ixe.png         PA     C   \n",
       "\n",
       "       Valid  Blurry  \n",
       "0          0       0  \n",
       "1          0       0  \n",
       "2          1       0  \n",
       "3          0       0  \n",
       "4          1       0  \n",
       "...      ...     ...  \n",
       "23516      1       0  \n",
       "23517      1       0  \n",
       "23518      1       0  \n",
       "23519      1       0  \n",
       "23520      1       0  \n",
       "\n",
       "[23521 rows x 5 columns]"
      ]
     },
     "execution_count": 5,
     "metadata": {},
     "output_type": "execute_result"
    }
   ],
   "source": [
    "df_pneumo_2d[features]"
   ]
  },
  {
   "cell_type": "code",
   "execution_count": 6,
   "metadata": {},
   "outputs": [
    {
     "data": {
      "text/plain": [
       "array(['C', 'N', 'I', 'NI'], dtype=object)"
      ]
     },
     "execution_count": 6,
     "metadata": {},
     "output_type": "execute_result"
    }
   ],
   "source": [
    "#looking at the unique values in our target variable\n",
    "df_pneumo_2d.group.unique()"
   ]
  },
  {
   "cell_type": "code",
   "execution_count": 7,
   "metadata": {},
   "outputs": [],
   "source": [
    "df_test=df_pneumo_2d"
   ]
  },
  {
   "cell_type": "code",
   "execution_count": 8,
   "metadata": {},
   "outputs": [
    {
     "data": {
      "text/html": [
       "<div>\n",
       "<style scoped>\n",
       "    .dataframe tbody tr th:only-of-type {\n",
       "        vertical-align: middle;\n",
       "    }\n",
       "\n",
       "    .dataframe tbody tr th {\n",
       "        vertical-align: top;\n",
       "    }\n",
       "\n",
       "    .dataframe thead th {\n",
       "        text-align: right;\n",
       "    }\n",
       "</style>\n",
       "<table border=\"1\" class=\"dataframe\">\n",
       "  <thead>\n",
       "    <tr style=\"text-align: right;\">\n",
       "      <th></th>\n",
       "      <th>Unnamed: 0</th>\n",
       "      <th>ImageID</th>\n",
       "      <th>StudyDate_DICOM</th>\n",
       "      <th>StudyID</th>\n",
       "      <th>PatientID</th>\n",
       "      <th>PatientBirth</th>\n",
       "      <th>PatientSex_DICOM</th>\n",
       "      <th>ViewPosition_DICOM</th>\n",
       "      <th>Projection</th>\n",
       "      <th>MethodProjection</th>\n",
       "      <th>...</th>\n",
       "      <th>group</th>\n",
       "      <th>Partition</th>\n",
       "      <th>Subject_occurrences</th>\n",
       "      <th>Partition_occurrences</th>\n",
       "      <th>Partitionlabel_occurrences</th>\n",
       "      <th>Valid</th>\n",
       "      <th>Blurry</th>\n",
       "      <th>Rotation_needed</th>\n",
       "      <th>Repeat</th>\n",
       "      <th>Observations</th>\n",
       "    </tr>\n",
       "  </thead>\n",
       "  <tbody>\n",
       "    <tr>\n",
       "      <th>0</th>\n",
       "      <td>14701</td>\n",
       "      <td>126022968388682456059208259745221627283_wb7atn...</td>\n",
       "      <td>20160115</td>\n",
       "      <td>126022968388682456059208259745221627283</td>\n",
       "      <td>331532285849366680169157256726092267279</td>\n",
       "      <td>1935</td>\n",
       "      <td>F</td>\n",
       "      <td>NaN</td>\n",
       "      <td>L</td>\n",
       "      <td>Manual review of DICOM fields</td>\n",
       "      <td>...</td>\n",
       "      <td>C</td>\n",
       "      <td>tr</td>\n",
       "      <td>12</td>\n",
       "      <td>15612</td>\n",
       "      <td>7808</td>\n",
       "      <td>0</td>\n",
       "      <td>0</td>\n",
       "      <td>0</td>\n",
       "      <td>24</td>\n",
       "      <td>Repeated</td>\n",
       "    </tr>\n",
       "    <tr>\n",
       "      <th>1</th>\n",
       "      <td>14702</td>\n",
       "      <td>126022968388682456059208259745221627283_nul4bn...</td>\n",
       "      <td>20160115</td>\n",
       "      <td>126022968388682456059208259745221627283</td>\n",
       "      <td>331532285849366680169157256726092267279</td>\n",
       "      <td>1935</td>\n",
       "      <td>F</td>\n",
       "      <td>NaN</td>\n",
       "      <td>PA</td>\n",
       "      <td>Manual review of DICOM fields</td>\n",
       "      <td>...</td>\n",
       "      <td>C</td>\n",
       "      <td>tr</td>\n",
       "      <td>12</td>\n",
       "      <td>15612</td>\n",
       "      <td>7808</td>\n",
       "      <td>0</td>\n",
       "      <td>0</td>\n",
       "      <td>0</td>\n",
       "      <td>25</td>\n",
       "      <td>Repeated</td>\n",
       "    </tr>\n",
       "    <tr>\n",
       "      <th>2</th>\n",
       "      <td>14703</td>\n",
       "      <td>126022968388682456059208259745221627283_40l46j...</td>\n",
       "      <td>20160115</td>\n",
       "      <td>126022968388682456059208259745221627283</td>\n",
       "      <td>331532285849366680169157256726092267279</td>\n",
       "      <td>1935</td>\n",
       "      <td>F</td>\n",
       "      <td>NaN</td>\n",
       "      <td>PA</td>\n",
       "      <td>Manual review of DICOM fields</td>\n",
       "      <td>...</td>\n",
       "      <td>C</td>\n",
       "      <td>tr</td>\n",
       "      <td>12</td>\n",
       "      <td>15612</td>\n",
       "      <td>7808</td>\n",
       "      <td>1</td>\n",
       "      <td>0</td>\n",
       "      <td>0</td>\n",
       "      <td>25</td>\n",
       "      <td>NaN</td>\n",
       "    </tr>\n",
       "    <tr>\n",
       "      <th>3</th>\n",
       "      <td>14704</td>\n",
       "      <td>126022968388682456059208259745221627283_mdr23v...</td>\n",
       "      <td>20160115</td>\n",
       "      <td>126022968388682456059208259745221627283</td>\n",
       "      <td>331532285849366680169157256726092267279</td>\n",
       "      <td>1935</td>\n",
       "      <td>F</td>\n",
       "      <td>NaN</td>\n",
       "      <td>PA</td>\n",
       "      <td>Manual review of DICOM fields</td>\n",
       "      <td>...</td>\n",
       "      <td>C</td>\n",
       "      <td>tr</td>\n",
       "      <td>12</td>\n",
       "      <td>15612</td>\n",
       "      <td>7808</td>\n",
       "      <td>0</td>\n",
       "      <td>0</td>\n",
       "      <td>0</td>\n",
       "      <td>25</td>\n",
       "      <td>Repeated</td>\n",
       "    </tr>\n",
       "    <tr>\n",
       "      <th>4</th>\n",
       "      <td>14705</td>\n",
       "      <td>126022968388682456059208259745221627283_eed72o...</td>\n",
       "      <td>20160115</td>\n",
       "      <td>126022968388682456059208259745221627283</td>\n",
       "      <td>331532285849366680169157256726092267279</td>\n",
       "      <td>1935</td>\n",
       "      <td>F</td>\n",
       "      <td>NaN</td>\n",
       "      <td>L</td>\n",
       "      <td>Manual review of DICOM fields</td>\n",
       "      <td>...</td>\n",
       "      <td>C</td>\n",
       "      <td>tr</td>\n",
       "      <td>12</td>\n",
       "      <td>15612</td>\n",
       "      <td>7808</td>\n",
       "      <td>1</td>\n",
       "      <td>0</td>\n",
       "      <td>0</td>\n",
       "      <td>24</td>\n",
       "      <td>NaN</td>\n",
       "    </tr>\n",
       "  </tbody>\n",
       "</table>\n",
       "<p>5 rows × 38 columns</p>\n",
       "</div>"
      ],
      "text/plain": [
       "   Unnamed: 0                                            ImageID  \\\n",
       "0       14701  126022968388682456059208259745221627283_wb7atn...   \n",
       "1       14702  126022968388682456059208259745221627283_nul4bn...   \n",
       "2       14703  126022968388682456059208259745221627283_40l46j...   \n",
       "3       14704  126022968388682456059208259745221627283_mdr23v...   \n",
       "4       14705  126022968388682456059208259745221627283_eed72o...   \n",
       "\n",
       "   StudyDate_DICOM                                  StudyID  \\\n",
       "0         20160115  126022968388682456059208259745221627283   \n",
       "1         20160115  126022968388682456059208259745221627283   \n",
       "2         20160115  126022968388682456059208259745221627283   \n",
       "3         20160115  126022968388682456059208259745221627283   \n",
       "4         20160115  126022968388682456059208259745221627283   \n",
       "\n",
       "                                 PatientID  PatientBirth PatientSex_DICOM  \\\n",
       "0  331532285849366680169157256726092267279          1935                F   \n",
       "1  331532285849366680169157256726092267279          1935                F   \n",
       "2  331532285849366680169157256726092267279          1935                F   \n",
       "3  331532285849366680169157256726092267279          1935                F   \n",
       "4  331532285849366680169157256726092267279          1935                F   \n",
       "\n",
       "  ViewPosition_DICOM Projection               MethodProjection  ... group  \\\n",
       "0                NaN          L  Manual review of DICOM fields  ...     C   \n",
       "1                NaN         PA  Manual review of DICOM fields  ...     C   \n",
       "2                NaN         PA  Manual review of DICOM fields  ...     C   \n",
       "3                NaN         PA  Manual review of DICOM fields  ...     C   \n",
       "4                NaN          L  Manual review of DICOM fields  ...     C   \n",
       "\n",
       "  Partition Subject_occurrences Partition_occurrences  \\\n",
       "0        tr                  12                 15612   \n",
       "1        tr                  12                 15612   \n",
       "2        tr                  12                 15612   \n",
       "3        tr                  12                 15612   \n",
       "4        tr                  12                 15612   \n",
       "\n",
       "   Partitionlabel_occurrences Valid Blurry  Rotation_needed Repeat  \\\n",
       "0                        7808     0      0                0     24   \n",
       "1                        7808     0      0                0     25   \n",
       "2                        7808     1      0                0     25   \n",
       "3                        7808     0      0                0     25   \n",
       "4                        7808     1      0                0     24   \n",
       "\n",
       "  Observations  \n",
       "0     Repeated  \n",
       "1     Repeated  \n",
       "2          NaN  \n",
       "3     Repeated  \n",
       "4          NaN  \n",
       "\n",
       "[5 rows x 38 columns]"
      ]
     },
     "execution_count": 8,
     "metadata": {},
     "output_type": "execute_result"
    }
   ],
   "source": [
    "df_test[df_test.group==('NI')];\n",
    "df_test.head()"
   ]
  },
  {
   "cell_type": "code",
   "execution_count": 9,
   "metadata": {},
   "outputs": [],
   "source": [
    "#eliminating noisy data points\n",
    "df_test=df_test[df_test.Valid==1]\n",
    "df_test=df_test[df_test.Blurry==0]\n",
    "df_test=df_test[df_test.Repeat==-1]\n",
    "df_test.reset_index(drop=True,inplace=True)"
   ]
  },
  {
   "cell_type": "code",
   "execution_count": 10,
   "metadata": {},
   "outputs": [
    {
     "data": {
      "text/plain": [
       "array(['C', 'N', 'I', 'NI'], dtype=object)"
      ]
     },
     "execution_count": 10,
     "metadata": {},
     "output_type": "execute_result"
    }
   ],
   "source": [
    "df_test['group'].unique()"
   ]
  },
  {
   "cell_type": "code",
   "execution_count": 11,
   "metadata": {},
   "outputs": [],
   "source": [
    "#1 hot encoding for pneumonia\n",
    "df_test['group']= [1 if df_test.group[x]==('N' or 'NI')  else 0 for x in range(df_test.shape[0])]"
   ]
  },
  {
   "cell_type": "code",
   "execution_count": 12,
   "metadata": {},
   "outputs": [
    {
     "data": {
      "text/html": [
       "<div>\n",
       "<style scoped>\n",
       "    .dataframe tbody tr th:only-of-type {\n",
       "        vertical-align: middle;\n",
       "    }\n",
       "\n",
       "    .dataframe tbody tr th {\n",
       "        vertical-align: top;\n",
       "    }\n",
       "\n",
       "    .dataframe thead tr th {\n",
       "        text-align: left;\n",
       "    }\n",
       "\n",
       "    .dataframe thead tr:last-of-type th {\n",
       "        text-align: right;\n",
       "    }\n",
       "</style>\n",
       "<table border=\"1\" class=\"dataframe\">\n",
       "  <thead>\n",
       "    <tr>\n",
       "      <th></th>\n",
       "      <th colspan=\"8\" halign=\"left\">Unnamed: 0</th>\n",
       "      <th colspan=\"2\" halign=\"left\">StudyDate_DICOM</th>\n",
       "      <th>...</th>\n",
       "      <th colspan=\"2\" halign=\"left\">Rotation_needed</th>\n",
       "      <th colspan=\"8\" halign=\"left\">Repeat</th>\n",
       "    </tr>\n",
       "    <tr>\n",
       "      <th></th>\n",
       "      <th>count</th>\n",
       "      <th>mean</th>\n",
       "      <th>std</th>\n",
       "      <th>min</th>\n",
       "      <th>25%</th>\n",
       "      <th>50%</th>\n",
       "      <th>75%</th>\n",
       "      <th>max</th>\n",
       "      <th>count</th>\n",
       "      <th>mean</th>\n",
       "      <th>...</th>\n",
       "      <th>75%</th>\n",
       "      <th>max</th>\n",
       "      <th>count</th>\n",
       "      <th>mean</th>\n",
       "      <th>std</th>\n",
       "      <th>min</th>\n",
       "      <th>25%</th>\n",
       "      <th>50%</th>\n",
       "      <th>75%</th>\n",
       "      <th>max</th>\n",
       "    </tr>\n",
       "    <tr>\n",
       "      <th>group</th>\n",
       "      <th></th>\n",
       "      <th></th>\n",
       "      <th></th>\n",
       "      <th></th>\n",
       "      <th></th>\n",
       "      <th></th>\n",
       "      <th></th>\n",
       "      <th></th>\n",
       "      <th></th>\n",
       "      <th></th>\n",
       "      <th></th>\n",
       "      <th></th>\n",
       "      <th></th>\n",
       "      <th></th>\n",
       "      <th></th>\n",
       "      <th></th>\n",
       "      <th></th>\n",
       "      <th></th>\n",
       "      <th></th>\n",
       "      <th></th>\n",
       "      <th></th>\n",
       "    </tr>\n",
       "  </thead>\n",
       "  <tbody>\n",
       "    <tr>\n",
       "      <th>0</th>\n",
       "      <td>17299.0</td>\n",
       "      <td>15065.199260</td>\n",
       "      <td>5496.844932</td>\n",
       "      <td>5921.0</td>\n",
       "      <td>10402.5</td>\n",
       "      <td>14816.0</td>\n",
       "      <td>19161.5</td>\n",
       "      <td>26014.0</td>\n",
       "      <td>17299.0</td>\n",
       "      <td>2.014096e+07</td>\n",
       "      <td>...</td>\n",
       "      <td>0.0</td>\n",
       "      <td>270.0</td>\n",
       "      <td>17299.0</td>\n",
       "      <td>-1.0</td>\n",
       "      <td>0.0</td>\n",
       "      <td>-1.0</td>\n",
       "      <td>-1.0</td>\n",
       "      <td>-1.0</td>\n",
       "      <td>-1.0</td>\n",
       "      <td>-1.0</td>\n",
       "    </tr>\n",
       "    <tr>\n",
       "      <th>1</th>\n",
       "      <td>5725.0</td>\n",
       "      <td>2970.943581</td>\n",
       "      <td>1709.581080</td>\n",
       "      <td>0.0</td>\n",
       "      <td>1502.0</td>\n",
       "      <td>2964.0</td>\n",
       "      <td>4451.0</td>\n",
       "      <td>5920.0</td>\n",
       "      <td>5725.0</td>\n",
       "      <td>2.012161e+07</td>\n",
       "      <td>...</td>\n",
       "      <td>0.0</td>\n",
       "      <td>270.0</td>\n",
       "      <td>5725.0</td>\n",
       "      <td>-1.0</td>\n",
       "      <td>0.0</td>\n",
       "      <td>-1.0</td>\n",
       "      <td>-1.0</td>\n",
       "      <td>-1.0</td>\n",
       "      <td>-1.0</td>\n",
       "      <td>-1.0</td>\n",
       "    </tr>\n",
       "  </tbody>\n",
       "</table>\n",
       "<p>2 rows × 112 columns</p>\n",
       "</div>"
      ],
      "text/plain": [
       "      Unnamed: 0                                                       \\\n",
       "           count          mean          std     min      25%      50%   \n",
       "group                                                                   \n",
       "0        17299.0  15065.199260  5496.844932  5921.0  10402.5  14816.0   \n",
       "1         5725.0   2970.943581  1709.581080     0.0   1502.0   2964.0   \n",
       "\n",
       "                        StudyDate_DICOM                ... Rotation_needed  \\\n",
       "           75%      max           count          mean  ...             75%   \n",
       "group                                                  ...                   \n",
       "0      19161.5  26014.0         17299.0  2.014096e+07  ...             0.0   \n",
       "1       4451.0   5920.0          5725.0  2.012161e+07  ...             0.0   \n",
       "\n",
       "               Repeat                                     \n",
       "         max    count mean  std  min  25%  50%  75%  max  \n",
       "group                                                     \n",
       "0      270.0  17299.0 -1.0  0.0 -1.0 -1.0 -1.0 -1.0 -1.0  \n",
       "1      270.0   5725.0 -1.0  0.0 -1.0 -1.0 -1.0 -1.0 -1.0  \n",
       "\n",
       "[2 rows x 112 columns]"
      ]
     },
     "execution_count": 12,
     "metadata": {},
     "output_type": "execute_result"
    }
   ],
   "source": [
    "df_test.groupby('group').describe()"
   ]
  },
  {
   "cell_type": "markdown",
   "metadata": {},
   "source": [
    "While not perfectly balanced, the minority class is large enough for us to classify using accuracy without oversampling"
   ]
  },
  {
   "cell_type": "markdown",
   "metadata": {},
   "source": [
    "### Characteristics of Patients"
   ]
  },
  {
   "cell_type": "code",
   "execution_count": 48,
   "metadata": {},
   "outputs": [
    {
     "data": {
      "image/png": "[encoded data removed]",
      "text/plain": [
       "<Figure size 1152x576 with 1 Axes>"
      ]
     },
     "metadata": {
      "needs_background": "light"
     },
     "output_type": "display_data"
    }
   ],
   "source": [
    "df_test['PatientSex_DICOM'].value_counts().plot(kind='bar', figsize=(16, 8))\n",
    "plt.xlabel('Gender', labelpad=14,fontsize=14)\n",
    "plt.ylabel('Count of People', labelpad=14,fontsize=14)\n",
    "plt.title(\"Count of Patients X-rayed by Gender\", fontsize=18);"
   ]
  },
  {
   "cell_type": "markdown",
   "metadata": {},
   "source": [
    "Relatively balanced set of male vs female patients"
   ]
  },
  {
   "cell_type": "code",
   "execution_count": 32,
   "metadata": {},
   "outputs": [
    {
     "data": {
      "text/plain": [
       "63.18945448227936"
      ]
     },
     "execution_count": 32,
     "metadata": {},
     "output_type": "execute_result"
    }
   ],
   "source": [
    "df_test['age']=2020-df_test.PatientBirth\n",
    "df_test.age.mean()"
   ]
  },
  {
   "cell_type": "code",
   "execution_count": 54,
   "metadata": {},
   "outputs": [
    {
     "data": {
      "image/png": "[encoded data removed]",
      "text/plain": [
       "<Figure size 1152x576 with 1 Axes>"
      ]
     },
     "metadata": {
      "needs_background": "light"
     },
     "output_type": "display_data"
    }
   ],
   "source": [
    "plt.figure(figsize=(16, 8))\n",
    "plt.title('Age of patients examined',fontsize=18);\n",
    "plt.xlabel('Age',labelpad=14,fontsize=14)\n",
    "plt.ylabel('Count of People', labelpad=14,fontsize=14)\n",
    "fig=df_test.age.hist(bins=100)\n"
   ]
  },
  {
   "cell_type": "markdown",
   "metadata": {},
   "source": [
    "Observation, most of the patients that have undergone an Xray are older than 63, in line with what we expect the age of patients who would suffer more severe symptoms with covid 19, and would thus end up in the hospital."
   ]
  },
  {
   "cell_type": "markdown",
   "metadata": {},
   "source": [
    "After checking for outliers, we can save this dataframe for our modelling to pull out the correct set of images"
   ]
  },
  {
   "cell_type": "code",
   "execution_count": null,
   "metadata": {},
   "outputs": [],
   "source": [
    "df_test.to_csv('./balanced-one-partition/pneumo_dataset_ITI_rev_clean.tsv',sep='\\t')"
   ]
  },
  {
   "cell_type": "markdown",
   "metadata": {},
   "source": [
    "### pneumo_data_generator.py"
   ]
  },
  {
   "cell_type": "markdown",
   "metadata": {},
   "source": [
    "This python file contains the important data Generator object, which we will use as a class in order to feed to the model fitting function in the modelling code:\n",
    "\n",
    "It contains the class: DataGenerator\n",
    "\n",
    "Credit to BIMCV for creating the code base; the code under pneumo_data_generator is largely an adaptation and trimming down of the features for my use case.\n"
   ]
  },
  {
   "cell_type": "code",
   "execution_count": null,
   "metadata": {},
   "outputs": [],
   "source": [
    "#creating the labels for NN\n",
    "dict_classes={\n",
    "    1:np.array([1, 0]),\n",
    "    0:np.array([0, 1])\n",
    "}\n",
    "\n",
    "\n",
    "class DataGenerator(keras.utils.Sequence):\n",
    "\n",
    "    ''' Initialization of the generator '''\n",
    "    def __init__(self, data_frame, y, x, target_channels, indexes_output=None, batch_size=8, path_to_img=\"./img\", shuffle=True, data_augmentation=False, reconstruction=False, softmax=False):\n",
    "        # Initialization\n",
    "        # Tsv data table\n",
    "        self.df = data_frame\n",
    "        # Image Y size\n",
    "        self.y = y\n",
    "        # Image X size\n",
    "        self.x = x\n",
    "        # Channel size\n",
    "        self.target_channels = target_channels\n",
    "        # batch size\n",
    "        self.batch_size = batch_size\n",
    "        # Boolean that allows shuffling the data at the end of each epoch\n",
    "        self.shuffle = shuffle\n",
    "        # Boolean that allows data augmentation to be applied\n",
    "        self.data_augmentation = data_augmentation\n",
    "        # Array of positions created from the elements of the table\n",
    "        self.indexes = np.arange(len(data_frame.index))\n",
    "        # Path location of images\n",
    "        self.path_to_img = path_to_img\n",
    "\n",
    "    def __len__(self):\n",
    "        #Returns the number of batches per epoch\n",
    "        return int(np.ceil(len(self.indexes) / self.batch_size))\n",
    "\n",
    "    def __getitem__(self, index):\n",
    "        # Returns a batch of data (the batches are indexed)\n",
    "        # Take the id's of the batch number \"index\"\n",
    "        indexes = self.indexes[index*self.batch_size:(index+1)*self.batch_size]\n",
    "\n",
    "        # Batch initialization\n",
    "        X, Y = [], []\n",
    "\n",
    "        # For each index,the sample and the label is taken. Then the batch is appended\n",
    "        for idx in indexes:\n",
    "            # Image and idx index tag is get\n",
    "            x, y = self.get_sample(idx)\n",
    "            # This image to the batch is added\n",
    "            X.append(x)\n",
    "            Y.append(y)\n",
    "            \n",
    "\t# The created batch is returned\n",
    "        return np.array(X), np.array(Y) #X:(batch_size, y, x), y:(batch_size, n_labels_types)\n",
    "\n",
    "    def on_epoch_end(self):\n",
    "        #Triggered at the end of each epoch\n",
    "        if self.shuffle == True:\n",
    "            np.random.shuffle(self.indexes) # Shuffles the data to ensure some randomness in picking up new data\n",
    "\n",
    "    def get_sample(self, idx):\n",
    "        '''Returns the sample and the label with the id passed as a parameter'''\n",
    "        # Get the row from the dataframe corresponding to the index \"idx\"                                                                       \n",
    "        df_row = self.df.iloc[idx]\n",
    "        image = Image.open(os.path.join(self.path_to_img,df_row[\"ImageID\"]))                                                                        \n",
    "        image = image.resize((self.x,self.x))\n",
    "        image = np.asarray(image)\n",
    "        label = dict_classes[df_row[\"group\"]]\n",
    "        image_resampled = np.reshape(image,image.shape + (self.target_channels,))\n",
    "        img2=np.array(image_resampled)    \n",
    "        img2.setflags(write=1)                                                                                                                     \n",
    "        img2 = self.norm(img2)\n",
    "        # Return the resized image and the label                                                                                                \n",
    "        return img2, label\n",
    "\n",
    "    def norm(self, image):\n",
    "        image = image / 255.0\n",
    "        return image.astype( np.float32 )"
   ]
  },
  {
   "cell_type": "markdown",
   "metadata": {},
   "source": [
    "Now that we have created our data generation function, we can proceed to the modelling in notebook 2."
   ]
  }
 ],
 "metadata": {
  "kernelspec": {
   "display_name": "Python 3",
   "language": "python",
   "name": "python3"
  },
  "language_info": {
   "codemirror_mode": {
    "name": "ipython",
    "version": 3
   },
   "file_extension": ".py",
   "mimetype": "text/x-python",
   "name": "python",
   "nbconvert_exporter": "python",
   "pygments_lexer": "ipython3",
   "version": "3.6.12"
  }
 },
 "nbformat": 4,
 "nbformat_minor": 4
}
