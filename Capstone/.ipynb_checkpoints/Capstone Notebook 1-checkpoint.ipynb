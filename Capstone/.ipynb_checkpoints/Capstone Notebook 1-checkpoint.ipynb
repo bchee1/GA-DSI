{
 "cells": [
  {
   "cell_type": "markdown",
   "metadata": {},
   "source": [
    "## Notebook for Capstone Project"
   ]
  },
  {
   "cell_type": "markdown",
   "metadata": {},
   "source": [
    "## Topic: Vision Machine Learning for Covid-19 Diagnosis\n",
    "\n",
    "### Problem Statement\n",
    "\n",
    "Given a chest X-ray image, can we classify between a Covid-19 case and a typical pneumonia case?\n",
    "\n",
    "### Motivation\n",
    "\n",
    "Chest X-rays are far more commonly available as a diagnostic tool than PCR (gold standard). If we can use Chest X-rays to diagnose, quarantine measures and treatment can be administered far more quickly\n",
    "\n",
    "\n",
    "### Models: Convolutional Neural Networks\n",
    "\n",
    "Considered one of the most well used methods for Vision Machine Learning\n",
    "other models such as Support vector machines will also be used\n",
    "\n",
    "### Risks and Assumptions:\n",
    "\n",
    "Labeled data: data that is labeled as non Covid-19 have to be taken as correctly labeled\n",
    "Risk factors are non biased: we are not missing out any omitted variable bias, such as predisposition to lung diseases due to an underlying cause that is not identifiable by the xray\n",
    "\n",
    "### Scoring\n",
    "\n",
    "Accuracy and ROC-AUC will be used since this is a classification problem\n",
    "\n",
    "### Data source\n",
    "\n",
    "https://bimcv.cipf.es/bimcv-projects/bimcv-covid19/: Medical Imaging data bank for the region of Valencia\n",
    "\n",
    "https://github.com/lindawangg/COVID-Net: main source of images with some pre processing work done"
   ]
  },
  {
   "cell_type": "markdown",
   "metadata": {},
   "source": []
  },
  {
   "cell_type": "code",
   "execution_count": 3,
   "metadata": {},
   "outputs": [],
   "source": [
    "import pandas as pd\n",
    "\n",
    "from sklearn.preprocessing import StandardScaler\n",
    "from sklearn.model_selection import train_test_split\n",
    "from sklearn.metrics import accuracy_score\n",
    "\n",
    "import tensorflow as tf\n",
    "from keras.models import Sequential\n",
    "from keras.layers import Dense, Dropout, GRU\n",
    "from keras.optimizers import Adam\n",
    "from keras.preprocessing.sequence import TimeseriesGenerator\n",
    "\n",
    "import matplotlib.pyplot as plt\n",
    "%matplotlib inline"
   ]
  },
  {
   "cell_type": "code",
   "execution_count": 4,
   "metadata": {},
   "outputs": [
    {
     "name": "stdout",
     "output_type": "stream",
     "text": [
      "1 Physical GPUs, 1 Logical GPUs\n"
     ]
    }
   ],
   "source": [
    "gpus = tf.config.experimental.list_physical_devices('GPU')\n",
    "if gpus:\n",
    "    try:\n",
    "        # Restrict TensorFlow to only use the fourth GPU\n",
    "        tf.config.experimental.set_visible_devices(gpus[0], 'GPU')\n",
    "\n",
    "        # Currently, memory growth needs to be the same across GPUs\n",
    "        for gpu in gpus:\n",
    "            tf.config.experimental.set_memory_growth(gpu, True)\n",
    "        logical_gpus = tf.config.experimental.list_logical_devices('GPU')\n",
    "        print(len(gpus), \"Physical GPUs,\", len(logical_gpus), \"Logical GPUs\")\n",
    "    except RuntimeError as e:\n",
    "        # Memory growth must be set before GPUs have been initialized\n",
    "        print(e)"
   ]
  }
 ],
 "metadata": {
  "kernelspec": {
   "display_name": "Python 3",
   "language": "python",
   "name": "python3"
  },
  "language_info": {
   "codemirror_mode": {
    "name": "ipython",
    "version": 3
   },
   "file_extension": ".py",
   "mimetype": "text/x-python",
   "name": "python",
   "nbconvert_exporter": "python",
   "pygments_lexer": "ipython3",
   "version": "3.6.12"
  }
 },
 "nbformat": 4,
 "nbformat_minor": 4
}
