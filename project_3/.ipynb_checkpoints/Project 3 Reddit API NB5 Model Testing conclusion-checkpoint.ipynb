{
 "cells": [
  {
   "cell_type": "markdown",
   "metadata": {},
   "source": [
    "# Project 3: Natural Language Processing and Classification\n",
    "\n",
    "Benjamin Chee, DSI-SG-17\n",
    "\n",
    "Classifying posts from r/xboxone and r/PS5"
   ]
  },
  {
   "cell_type": "markdown",
   "metadata": {},
   "source": [
    "# Notebook 5: Model Testing, Data Interpretation, Conclusion\n",
    "\n",
    "This notebook contains code used to test our chosen model, the NMB Model\n",
    "\n",
    "Relevant word tokens that are interesting are also discussed.\n",
    "\n",
    "In conclusion, a recommendation to Digital Marketers at Sony is made\n"
   ]
  },
  {
   "cell_type": "markdown",
   "metadata": {},
   "source": [
    "## Libraries"
   ]
  },
  {
   "cell_type": "code",
   "execution_count": 1,
   "metadata": {},
   "outputs": [],
   "source": [
    "import datetime\n",
    "import time\n",
    "import re\n",
    "import pandas as pd\n",
    "import numpy as np\n",
    "import matplotlib.pyplot as plt\n",
    "from tqdm import tqdm\n",
    "\n",
    "#nlp\n",
    "from nltk.tokenize import RegexpTokenizer\n",
    "from nltk.stem import WordNetLemmatizer\n",
    "\n",
    "# general scikitlearn imports\n",
    "from sklearn.model_selection import GridSearchCV, train_test_split, cross_val_score\n",
    "from sklearn.preprocessing import StandardScaler\n",
    "from sklearn.pipeline import Pipeline\n",
    "\n",
    "#NLP\n",
    "from sklearn.feature_extraction.text import TfidfVectorizer, CountVectorizer\n",
    "\n",
    "# Classification models\n",
    "from sklearn.linear_model import LogisticRegression\n",
    "from sklearn.neighbors import KNeighborsClassifier\n",
    "from sklearn.naive_bayes import MultinomialNB\n",
    "from sklearn.tree import DecisionTreeClassifier\n",
    "from sklearn.ensemble import BaggingClassifier, RandomForestClassifier\n",
    "\n",
    "# metrics\n",
    "from sklearn.metrics import confusion_matrix, accuracy_score, roc_auc_score,roc_curve"
   ]
  },
  {
   "cell_type": "code",
   "execution_count": 2,
   "metadata": {},
   "outputs": [],
   "source": [
    "#initialise date time\n",
    "date_run = datetime.datetime.now()\n",
    "date= date_run.date()"
   ]
  },
  {
   "cell_type": "code",
   "execution_count": 3,
   "metadata": {
    "scrolled": true
   },
   "outputs": [],
   "source": [
    "#reading output from notebook 1\n",
    "df_pre=pd.read_csv('./csv/df_pre_2020-10-01.csv')"
   ]
  },
  {
   "cell_type": "code",
   "execution_count": 4,
   "metadata": {},
   "outputs": [],
   "source": [
    "df_pre.dropna(inplace=True)"
   ]
  },
  {
   "cell_type": "code",
   "execution_count": 5,
   "metadata": {},
   "outputs": [],
   "source": [
    "X = df_pre['post_lm']\n",
    "y = df_pre['from_ps5']"
   ]
  },
  {
   "cell_type": "code",
   "execution_count": 6,
   "metadata": {},
   "outputs": [],
   "source": [
    "# test set produced after the webscrape is done, name is test\n",
    "test=pd.read_csv('./csv/test.csv')"
   ]
  },
  {
   "cell_type": "code",
   "execution_count": 7,
   "metadata": {},
   "outputs": [],
   "source": [
    "#treatment for the text is the same as before\n",
    "test.comb.replace('&amp;','&',inplace=True)\n",
    "test.comb.replace('#x200B;',' ',inplace=True) # zero width space\n",
    "test.comb.replace('nbsp;',' ',inplace=True) #non breaking space"
   ]
  },
  {
   "cell_type": "code",
   "execution_count": 8,
   "metadata": {},
   "outputs": [],
   "source": [
    "rt = RegexpTokenizer(r\"[\\w/\\']+\") "
   ]
  },
  {
   "cell_type": "code",
   "execution_count": 9,
   "metadata": {},
   "outputs": [],
   "source": [
    "comb_tokens = []  # empty token list\n",
    "\n",
    "for i in range(len(test.comb)):\n",
    "    loop_tokens = rt.tokenize(test.comb.at[i].lower())\n",
    "    for j, token in enumerate(loop_tokens):\n",
    "        if re.match(r\"\\d+[\\w]*\", token):\n",
    "            loop_tokens[j] = ''\n",
    "        if re.match(r\"//[\\w]*\", token):\n",
    "            loop_tokens[j] = ''\n",
    "        if ('PS5' in token)|('xboxone' in token)|('http' in token):\n",
    "            loop_tokens[j] = ''\n",
    "    comb_tokens.append(loop_tokens)   "
   ]
  },
  {
   "cell_type": "code",
   "execution_count": 10,
   "metadata": {},
   "outputs": [],
   "source": [
    "lm = WordNetLemmatizer()"
   ]
  },
  {
   "cell_type": "code",
   "execution_count": 11,
   "metadata": {},
   "outputs": [],
   "source": [
    "posts_lm = []\n",
    "\n",
    "for post in comb_tokens:\n",
    "    post_st = [] # empty post stems\n",
    "    for word in post:\n",
    "        #print(word)\n",
    "        word_st = lm.lemmatize(word) # get lemmatized word\n",
    "        post_st.append(word_st) # add to post list\n",
    "    posts_lm.append(post_st)  # add post list to lemma matrix\n",
    "    \n",
    "posts_lm_list = []\n",
    "\n",
    "for post in posts_lm:\n",
    "    posts_lm_list.append(' '.join(post))"
   ]
  },
  {
   "cell_type": "code",
   "execution_count": 12,
   "metadata": {},
   "outputs": [],
   "source": [
    "test_pre = pd.DataFrame(data=[posts_lm_list], index=['post_lm'])\n",
    "test_pre=test_pre.T"
   ]
  },
  {
   "cell_type": "code",
   "execution_count": 13,
   "metadata": {},
   "outputs": [
    {
     "data": {
      "text/plain": [
       "0"
      ]
     },
     "execution_count": 13,
     "metadata": {},
     "output_type": "execute_result"
    }
   ],
   "source": [
    "X.isnull().sum()"
   ]
  },
  {
   "cell_type": "code",
   "execution_count": 14,
   "metadata": {},
   "outputs": [],
   "source": [
    "test.fillna(' ',inplace=True)"
   ]
  },
  {
   "cell_type": "code",
   "execution_count": 15,
   "metadata": {},
   "outputs": [
    {
     "data": {
      "text/plain": [
       "title       0\n",
       "post        0\n",
       "author      0\n",
       "from_ps5    0\n",
       "comb        0\n",
       "dtype: int64"
      ]
     },
     "execution_count": 15,
     "metadata": {},
     "output_type": "execute_result"
    }
   ],
   "source": [
    "test.isnull().sum()"
   ]
  },
  {
   "cell_type": "code",
   "execution_count": 16,
   "metadata": {},
   "outputs": [],
   "source": [
    "X_test = test_pre.post_lm\n",
    "y_test = test['from_ps5']"
   ]
  },
  {
   "cell_type": "code",
   "execution_count": 17,
   "metadata": {},
   "outputs": [
    {
     "data": {
      "text/plain": [
       "0"
      ]
     },
     "execution_count": 17,
     "metadata": {},
     "output_type": "execute_result"
    }
   ],
   "source": [
    "y_test.isnull().sum()"
   ]
  },
  {
   "cell_type": "markdown",
   "metadata": {},
   "source": [
    "## Model 1 Optimized: Multinomial Naive Bayes"
   ]
  },
  {
   "cell_type": "code",
   "execution_count": 18,
   "metadata": {},
   "outputs": [],
   "source": [
    "m1_steps = [('m1_cv',CountVectorizer(stop_words='english', ngram_range=(1,1), max_features=3490)),\n",
    "           ('m1_mnb',MultinomialNB(alpha=1.05))]"
   ]
  },
  {
   "cell_type": "code",
   "execution_count": 19,
   "metadata": {},
   "outputs": [
    {
     "data": {
      "text/plain": [
       "Pipeline(steps=[('m1_cv',\n",
       "                 CountVectorizer(max_features=3490, stop_words='english')),\n",
       "                ('m1_mnb', MultinomialNB(alpha=1.05))])"
      ]
     },
     "execution_count": 19,
     "metadata": {},
     "output_type": "execute_result"
    }
   ],
   "source": [
    "pipe_1 = Pipeline(m1_steps)\n",
    "pipe_1.fit(X, y)\n"
   ]
  },
  {
   "cell_type": "code",
   "execution_count": 20,
   "metadata": {},
   "outputs": [],
   "source": [
    "pred_proba = [i[1] for i in pipe_1.predict_proba(X_test)]\n",
    "\n",
    "pred_df = pd.DataFrame({'true_values': y_test,\n",
    "                        'pred_probs':pred_proba})"
   ]
  },
  {
   "cell_type": "code",
   "execution_count": 21,
   "metadata": {},
   "outputs": [
    {
     "data": {
      "image/png": "[encoded data removed]",
      "text/plain": [
       "<Figure size 1152x576 with 1 Axes>"
      ]
     },
     "metadata": {
      "needs_background": "light"
     },
     "output_type": "display_data"
    }
   ],
   "source": [
    "plt.figure(figsize = (16,8))\n",
    "\n",
    "# Create threshold values.\n",
    "thresholds = np.linspace(0, 1, 200)\n",
    "\n",
    "# Define function to calculate sensitivity. (True positive rate.)\n",
    "def TPR(df, true_col, pred_prob_col, threshold):\n",
    "    true_positive = df[(df[true_col] == 1) & (df[pred_prob_col] >= threshold)].shape[0]\n",
    "    false_negative = df[(df[true_col] == 1) & (df[pred_prob_col] < threshold)].shape[0]\n",
    "    return true_positive / (true_positive + false_negative)\n",
    "    \n",
    "\n",
    "# Define function to calculate 1 - specificity. (False positive rate.)\n",
    "def FPR(df, true_col, pred_prob_col, threshold):\n",
    "    true_negative = df[(df[true_col] == 0) & (df[pred_prob_col] <= threshold)].shape[0]\n",
    "    false_positive = df[(df[true_col] == 0) & (df[pred_prob_col] > threshold)].shape[0]\n",
    "    return 1 - (true_negative / (true_negative + false_positive))\n",
    "    \n",
    "# Calculate sensitivity & 1-specificity for each threshold between 0 and 1.\n",
    "tpr_values = [TPR(pred_df, 'true_values', 'pred_probs', prob) for prob in thresholds]\n",
    "fpr_values = [FPR(pred_df, 'true_values', 'pred_probs', prob) for prob in thresholds]\n",
    "\n",
    "# Plot ROC curve.\n",
    "plt.plot(fpr_values, # False Positive Rate on X-axis\n",
    "         tpr_values, # True Positive Rate on Y-axis\n",
    "         label='ROC Curve')\n",
    "\n",
    "# Plot baseline. (Perfect overlap between the two populations.)\n",
    "plt.plot(np.linspace(0, 1, 200),\n",
    "         np.linspace(0, 1, 200),\n",
    "         label='baseline',\n",
    "         linestyle='--')\n",
    "\n",
    "# Label axes.\n",
    "plt.title('Receiver Operating Characteristic Curve, ROC-AUC=0.97', fontsize=22)\n",
    "plt.ylabel('Sensitivity', fontsize=18)\n",
    "plt.xlabel('1 - Specificity', fontsize=18)\n",
    "\n",
    "# Create legend.\n",
    "plt.legend(fontsize=16);"
   ]
  },
  {
   "cell_type": "code",
   "execution_count": 22,
   "metadata": {},
   "outputs": [
    {
     "data": {
      "text/plain": [
       "0.9705215419501133"
      ]
     },
     "execution_count": 22,
     "metadata": {},
     "output_type": "execute_result"
    }
   ],
   "source": [
    "roc_auc_score(pred_df['true_values'], pred_df['pred_probs'])"
   ]
  },
  {
   "cell_type": "code",
   "execution_count": 23,
   "metadata": {
    "scrolled": true
   },
   "outputs": [
    {
     "data": {
      "text/plain": [
       "0.8928571428571429"
      ]
     },
     "execution_count": 23,
     "metadata": {},
     "output_type": "execute_result"
    }
   ],
   "source": [
    "pipe_1.score(X_test, y_test)"
   ]
  },
  {
   "cell_type": "code",
   "execution_count": 24,
   "metadata": {},
   "outputs": [
    {
     "name": "stdout",
     "output_type": "stream",
     "text": [
      "True Negatives: 36\n",
      "False Positives: 6\n",
      "False Negatives: 3\n",
      "True Positives: 39\n",
      "\n",
      "Accuracy:  0.8928571428571429\n",
      "Sensitivity:  0.9285714285714286\n",
      "Specificity:  0.8571428571428571\n",
      "Precision:  0.8666666666666667\n"
     ]
    }
   ],
   "source": [
    "tn, fp, fn, tp = confusion_matrix(y_test, pipe_1.predict(X_test)).ravel()\n",
    "print(\"True Negatives: %s\" % tn)\n",
    "print(\"False Positives: %s\" % fp)\n",
    "print(\"False Negatives: %s\" % fn)\n",
    "print(\"True Positives: %s\" % tp)\n",
    "\n",
    "print(\"\\nAccuracy: \", (tn + tp) / (tn + fp + fn + tp))\n",
    "print(\"Sensitivity: \", tp / (tp + fn))\n",
    "print(\"Specificity: \", tn / (tn + fp))\n",
    "print(\"Precision: \", tp / (tp + fp))"
   ]
  },
  {
   "cell_type": "markdown",
   "metadata": {},
   "source": [
    "As we can see, the accuracy score is around 0.9, which is acceptable. Some overfitting is evident since the train score for this model was closer to 0.97, but this model works as a rough cut."
   ]
  },
  {
   "cell_type": "markdown",
   "metadata": {},
   "source": [
    "## Word Features"
   ]
  },
  {
   "cell_type": "markdown",
   "metadata": {},
   "source": [
    "To achieve the goal of helping provide business value to the digital marketing team, the features must be extracted and compared to 1 another to see if there are any word tokens that stand out"
   ]
  },
  {
   "cell_type": "code",
   "execution_count": 26,
   "metadata": {},
   "outputs": [
    {
     "data": {
      "text/plain": [
       "<1362x3490 sparse matrix of type '<class 'numpy.int64'>'\n",
       "\twith 28990 stored elements in Compressed Sparse Row format>"
      ]
     },
     "execution_count": 26,
     "metadata": {},
     "output_type": "execute_result"
    }
   ],
   "source": [
    "m1 = pipe_1.named_steps['m1_mnb']\n",
    "cv1 = pipe_1.named_steps['m1_cv']\n",
    "cv1.fit_transform(X)"
   ]
  },
  {
   "cell_type": "code",
   "execution_count": 27,
   "metadata": {},
   "outputs": [],
   "source": [
    "m1_df = pd.DataFrame(m1.coef_.T, index=cv1.get_feature_names(), columns=['coef'])"
   ]
  },
  {
   "cell_type": "code",
   "execution_count": 28,
   "metadata": {},
   "outputs": [
    {
     "data": {
      "text/plain": [
       "game          -3.494587\n",
       "ps5           -3.627333\n",
       "ps4           -4.452118\n",
       "like          -4.609364\n",
       "just          -4.857466\n",
       "wa            -4.945726\n",
       "sony          -5.001054\n",
       "think         -5.077008\n",
       "new           -5.085815\n",
       "playstation   -5.131051\n",
       "time          -5.324447\n",
       "know          -5.347162\n",
       "console       -5.370406\n",
       "don           -5.382233\n",
       "play          -5.406316\n",
       "ha            -5.443564\n",
       "really        -5.508904\n",
       "launch        -5.564436\n",
       "want          -5.608206\n",
       "title         -5.608206\n",
       "soul          -5.669717\n",
       "buy           -5.701952\n",
       "look          -5.718467\n",
       "ve            -5.735260\n",
       "day           -5.735260\n",
       "people        -5.752340\n",
       "going         -5.787401\n",
       "man           -5.787401\n",
       "com           -5.805403\n",
       "gt            -5.823735\n",
       "Name: coef, dtype: float64"
      ]
     },
     "execution_count": 28,
     "metadata": {},
     "output_type": "execute_result"
    }
   ],
   "source": [
    "#sorting by smallest coefficient (nore likely ps5)\n",
    "m1_df.coef.sort_values(ascending=False).head(30)"
   ]
  },
  {
   "cell_type": "markdown",
   "metadata": {},
   "source": [
    "Many words here are common, non- stopwords that are trivial to us. Others are expected, such as playstation and sony. The most interesting is the last one 'spider'"
   ]
  },
  {
   "cell_type": "code",
   "execution_count": 29,
   "metadata": {},
   "outputs": [
    {
     "data": {
      "text/plain": [
       "squid           -9.764855\n",
       "squad           -9.764855\n",
       "spring          -9.764855\n",
       "gf              -9.764855\n",
       "giana           -9.764855\n",
       "girlfriend      -9.764855\n",
       "gal             -9.764855\n",
       "fusion          -9.764855\n",
       "stereo          -9.764855\n",
       "funimation      -9.764855\n",
       "forwarding      -9.764855\n",
       "founder         -9.764855\n",
       "fpelonm         -9.764855\n",
       "steamcharts     -9.764855\n",
       "freak           -9.764855\n",
       "stealth         -9.764855\n",
       "freediving      -9.764855\n",
       "freeks          -9.764855\n",
       "freesync        -9.764855\n",
       "freeze          -9.764855\n",
       "freezing        -9.764855\n",
       "frequently      -9.764855\n",
       "stats           -9.764855\n",
       "statistic       -9.764855\n",
       "fucked          -9.764855\n",
       "fullscreen      -9.764855\n",
       "static          -9.764855\n",
       "functionality   -9.764855\n",
       "functioning     -9.764855\n",
       "zubmariner      -9.764855\n",
       "Name: coef, dtype: float64"
      ]
     },
     "execution_count": 29,
     "metadata": {},
     "output_type": "execute_result"
    }
   ],
   "source": [
    "m1_df.coef.sort_values(ascending=False).tail(30)"
   ]
  },
  {
   "cell_type": "markdown",
   "metadata": {},
   "source": [
    "However, it does not seem like the other end is really useful. We have to look at some of our other fitted models for hints"
   ]
  },
  {
   "cell_type": "code",
   "execution_count": 35,
   "metadata": {},
   "outputs": [],
   "source": [
    "m2_steps = [('m2_tf',TfidfVectorizer(stop_words='english', ngram_range=(1,1))),\n",
    "           ('m2_rf',RandomForestClassifier(criterion='gini', n_estimators=93, max_depth=8))]"
   ]
  },
  {
   "cell_type": "code",
   "execution_count": 38,
   "metadata": {},
   "outputs": [
    {
     "data": {
      "text/plain": [
       "Pipeline(steps=[('m2_tf', TfidfVectorizer(stop_words='english')),\n",
       "                ('m2_rf',\n",
       "                 RandomForestClassifier(max_depth=8, n_estimators=93))])"
      ]
     },
     "execution_count": 38,
     "metadata": {},
     "output_type": "execute_result"
    }
   ],
   "source": [
    "pipe_2 = Pipeline(m2_steps)\n",
    "pipe_2.fit(X, y)"
   ]
  },
  {
   "cell_type": "code",
   "execution_count": 39,
   "metadata": {},
   "outputs": [
    {
     "data": {
      "text/plain": [
       "<1362x5996 sparse matrix of type '<class 'numpy.float64'>'\n",
       "\twith 31496 stored elements in Compressed Sparse Row format>"
      ]
     },
     "execution_count": 39,
     "metadata": {},
     "output_type": "execute_result"
    }
   ],
   "source": [
    "m2 = pipe_2.named_steps['m2_rf']\n",
    "cv2 = pipe_2.named_steps['m2_tf']\n",
    "cv2.fit_transform(X)"
   ]
  },
  {
   "cell_type": "code",
   "execution_count": 46,
   "metadata": {},
   "outputs": [],
   "source": [
    "m2_df = pd.DataFrame(m2.feature_importances_, index=cv2.get_feature_names(), columns=['fi'])\n"
   ]
  },
  {
   "cell_type": "code",
   "execution_count": 47,
   "metadata": {},
   "outputs": [
    {
     "data": {
      "text/plain": [
       "ps5            0.096590\n",
       "ps4            0.062850\n",
       "xbox           0.045629\n",
       "playstation    0.029420\n",
       "man            0.028219\n",
       "sony           0.025686\n",
       "series         0.020782\n",
       "spider         0.020585\n",
       "mile           0.019144\n",
       "think          0.015421\n",
       "demon          0.014142\n",
       "soul           0.011073\n",
       "lot            0.010318\n",
       "app            0.009974\n",
       "gamepass       0.009668\n",
       "version        0.009245\n",
       "ps3            0.008758\n",
       "morale         0.008167\n",
       "launch         0.008055\n",
       "far            0.007888\n",
       "problem        0.007453\n",
       "plus           0.007226\n",
       "remake         0.007097\n",
       "fix            0.007057\n",
       "spiderman      0.006978\n",
       "pas            0.006794\n",
       "live           0.006533\n",
       "way            0.006196\n",
       "gold           0.005979\n",
       "microsoft      0.005716\n",
       "Name: fi, dtype: float64"
      ]
     },
     "execution_count": 47,
     "metadata": {},
     "output_type": "execute_result"
    }
   ],
   "source": [
    "m2_df.fi.sort_values(ascending=False).head(30)"
   ]
  },
  {
   "cell_type": "code",
   "execution_count": 60,
   "metadata": {},
   "outputs": [
    {
     "data": {
      "text/plain": [
       "Text(0.5, 1.0, 'Top Relative frequency of Word features for classifying to PS5')"
      ]
     },
     "execution_count": 60,
     "metadata": {},
     "output_type": "execute_result"
    },
    {
     "data": {
      "image/png": "[encoded data removed]",
      "text/plain": [
       "<Figure size 1152x576 with 1 Axes>"
      ]
     },
     "metadata": {
      "needs_background": "light"
     },
     "output_type": "display_data"
    }
   ],
   "source": [
    "a.hist(figsize =(16,8),label='str')\n",
    "plt.xlabel('Word Tokens') \n",
    "plt.ylabel('Relative Frequency')\n",
    "plt.title('Top Relative frequency of Word features for classifying to PS5') "
   ]
  },
  {
   "cell_type": "code",
   "execution_count": 59,
   "metadata": {},
   "outputs": [
    {
     "data": {
      "text/plain": [
       "platinum           0.0\n",
       "playable           0.0\n",
       "playhasnolimits    0.0\n",
       "playlist           0.0\n",
       "playseat           0.0\n",
       "playstations       0.0\n",
       "playtime           0.0\n",
       "pleased            0.0\n",
       "plague             0.0\n",
       "placed             0.0\n",
       "pin                0.0\n",
       "place              0.0\n",
       "ping               0.0\n",
       "pink               0.0\n",
       "pinpoint           0.0\n",
       "pipe               0.0\n",
       "pipeline           0.0\n",
       "piracy             0.0\n",
       "pirate             0.0\n",
       "pirated            0.0\n",
       "pit                0.0\n",
       "pita               0.0\n",
       "pitched            0.0\n",
       "pivot              0.0\n",
       "pivoting           0.0\n",
       "pixel              0.0\n",
       "pizza              0.0\n",
       "pjpg               0.0\n",
       "pks                0.0\n",
       "01drxixndyq        0.0\n",
       "Name: fi, dtype: float64"
      ]
     },
     "execution_count": 59,
     "metadata": {},
     "output_type": "execute_result"
    }
   ],
   "source": [
    "\n",
    "m2_df.fi.sort_values(ascending=False).tail(30)\n"
   ]
  },
  {
   "cell_type": "markdown",
   "metadata": {},
   "source": [
    "## Data interpretation:\n",
    "\n",
    "Looking specifically at the list of features from the Multinomial Naive Bayes model, we see words strongly pointing towards the Playstation line, such as PS4, PS5, and Playstation. However, these are generally considered trivial, since they already point to Sony's own products.\n",
    "\n",
    "\n",
    "More interesting is the 2nd set of words which pertain to game names. These are namely: Marvel, spider, man, demon, and soul. These words refer very much to 2 Playstation exclusive game series:\n",
    "\n",
    "- [Spider-man Remastered](https://blog.playstation.com/2020/09/30/marvels-spider-man-remastered-detailed/)\n",
    "- [Demon Souls](https://www.playstation.com/en-us/games/demons-souls/)\n",
    "\n",
    "\n",
    "These show that potential buyers for the Playstation are very much interested in the games that are exclusively produced for PS5. It is a strong signal for Sony's marketing team that the strategy to collaborate with game studios to produce titles only for Playstation is an effective strategy\n",
    "\n",
    "\n",
    "Moreover, since the subreddit is already self-selecting potential buyers, it may make sense to drive PS5 sales by marketing through Reddit. This can take the form of game teasers for those PS5 exclusive games in the week leading up to Black Friday. Adwords on Reddit or Google itself can also be a focus for the digital marketing spend in the period leading up to the product launch in November."
   ]
  },
  {
   "cell_type": "markdown",
   "metadata": {},
   "source": [
    "## Conclusion:\n",
    "\n",
    "Work with the digital marketing team to focus on buying adwords and banner space on Reddit for PS5 exclusive games in the lead up to product launch would be an effective way of driving mindshare."
   ]
  },
  {
   "cell_type": "markdown",
   "metadata": {},
   "source": [
    "## Possible extensions:\n",
    "\n",
    "Continue with further classifications to PC focused subreddits such as r/pcgaming and r/pcmasterrace to see if the above hypothesis also holds true: words related to PS5 exclusive titles should also do well in distinguishing reddit posts into their r/PS5 vis a vis the pc gaming subreddits."
   ]
  }
 ],
 "metadata": {
  "kernelspec": {
   "display_name": "Python 3",
   "language": "python",
   "name": "python3"
  },
  "language_info": {
   "codemirror_mode": {
    "name": "ipython",
    "version": 3
   },
   "file_extension": ".py",
   "mimetype": "text/x-python",
   "name": "python",
   "nbconvert_exporter": "python",
   "pygments_lexer": "ipython3",
   "version": "3.8.3"
  }
 },
 "nbformat": 4,
 "nbformat_minor": 4
}
