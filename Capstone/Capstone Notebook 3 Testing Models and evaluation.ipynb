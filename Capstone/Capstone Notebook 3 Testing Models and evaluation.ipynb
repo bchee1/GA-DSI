{
 "cells": [
  {
   "cell_type": "markdown",
   "metadata": {},
   "source": [
    "# Capstone Notebook 3: Testing Models and evaluation"
   ]
  },
  {
   "cell_type": "markdown",
   "metadata": {},
   "source": [
    "In this notebook, we will evaluate the various models"
   ]
  },
  {
   "cell_type": "code",
   "execution_count": 37,
   "metadata": {},
   "outputs": [],
   "source": [
    "import numpy as np\n",
    "import pandas as pd\n",
    "from PIL import Image\n",
    "\n",
    "from keras.models import load_model\n",
    "from keras.preprocessing import image\n",
    "from keras.optimizers import Adam\n",
    "\n",
    "df_test = pd.read_csv('./balanced-one-partition/pneumo_dataset_ITI_rev_clean.tsv' , sep=\"\\t\")\n",
    "y, x, in_channel = 524, 524, 1"
   ]
  },
  {
   "cell_type": "code",
   "execution_count": 48,
   "metadata": {},
   "outputs": [
    {
     "name": "stderr",
     "output_type": "stream",
     "text": [
      "C:\\Users\\Ben\\anaconda3\\envs\\tensorflowgpu\\lib\\site-packages\\ipykernel_launcher.py:7: UserWarning: Boolean Series key will be reindexed to match DataFrame index.\n",
      "  import sys\n"
     ]
    }
   ],
   "source": [
    "from pneumo_data_generator import DataGenerator\n",
    "\n",
    "#from pneumo_data_generator_test import DataGeneratorTest\n",
    "data_filter  = df_test['Projection']=='PA'\n",
    "data_filter &= df_test['Partition']=='te'\n",
    "df_pneumo_2d_test=df_test[ data_filter ]\n",
    "data_generator_test = DataGenerator( df_pneumo_2d_test[data_filter ], y, x, in_channel, batch_size=1,shuffle=True)"
   ]
  },
  {
   "cell_type": "code",
   "execution_count": 20,
   "metadata": {},
   "outputs": [
    {
     "data": {
      "text/plain": [
       "(2378, 39)"
      ]
     },
     "execution_count": 20,
     "metadata": {},
     "output_type": "execute_result"
    }
   ],
   "source": [
    "df_pneumo_2d_test.shape"
   ]
  },
  {
   "cell_type": "code",
   "execution_count": 39,
   "metadata": {
    "scrolled": true
   },
   "outputs": [
    {
     "name": "stderr",
     "output_type": "stream",
     "text": [
      "C:\\Users\\Ben\\anaconda3\\envs\\tensorflowgpu\\lib\\site-packages\\keras\\engine\\saving.py:341: UserWarning: No training configuration found in save file: the model was *not* compiled. Compile it manually.\n",
      "  warnings.warn('No training configuration found in save file: '\n"
     ]
    }
   ],
   "source": [
    "# CNN model\n",
    "CNNmodel= load_model('./models/modelCNN-train.hdf5')"
   ]
  },
  {
   "cell_type": "code",
   "execution_count": 49,
   "metadata": {},
   "outputs": [
    {
     "name": "stdout",
     "output_type": "stream",
     "text": [
      "2378/2378 [==============================] - 39s 16ms/step\n"
     ]
    }
   ],
   "source": [
    "predict_CNN = CNNmodel.predict(data_generator_test,steps = len(data_generator_test),verbose=1,\n",
    "                               workers=1, use_multiprocessing=False)\n",
    "#predict = np.argmax(predict, axis=1)"
   ]
  },
  {
   "cell_type": "code",
   "execution_count": null,
   "metadata": {},
   "outputs": [],
   "source": [
    "#data_generator_test.__getitem__(1)\n",
    "CNNmodel.predict(x=data_generator_test.__getitem__(1))"
   ]
  },
  {
   "cell_type": "code",
   "execution_count": 47,
   "metadata": {},
   "outputs": [
    {
     "data": {
      "text/plain": [
       "array([[0.20709012, 0.79290986],\n",
       "       [0.20709012, 0.79290986],\n",
       "       [0.20709012, 0.79290986],\n",
       "       ...,\n",
       "       [0.20709012, 0.79290986],\n",
       "       [0.20709012, 0.79290986],\n",
       "       [0.20709012, 0.79290986]], dtype=float32)"
      ]
     },
     "execution_count": 47,
     "metadata": {},
     "output_type": "execute_result"
    }
   ],
   "source": [
    "predict_CNN"
   ]
  },
  {
   "cell_type": "code",
   "execution_count": 8,
   "metadata": {
    "scrolled": true
   },
   "outputs": [],
   "source": [
    "# VGG model\n",
    "vggmodel= load_model('./models/vggmodel-train.hdf5')"
   ]
  },
  {
   "cell_type": "code",
   "execution_count": 9,
   "metadata": {},
   "outputs": [
    {
     "name": "stdout",
     "output_type": "stream",
     "text": [
      "2378/2378 [==============================] - 68s 28ms/step\n"
     ]
    }
   ],
   "source": [
    "predict_vgg = vggmodel.predict_generator(data_generator_test,steps = len(data_generator_test),verbose=1,\n",
    "                               workers=1, use_multiprocessing=False)\n"
   ]
  },
  {
   "cell_type": "code",
   "execution_count": 21,
   "metadata": {},
   "outputs": [
    {
     "data": {
      "text/plain": [
       "array([[0.20379415, 0.7962058 ],\n",
       "       [0.20379415, 0.7962058 ],\n",
       "       [0.20379415, 0.7962058 ],\n",
       "       ...,\n",
       "       [0.20379418, 0.7962058 ],\n",
       "       [0.20379418, 0.7962058 ],\n",
       "       [0.20379412, 0.7962058 ]], dtype=float32)"
      ]
     },
     "execution_count": 21,
     "metadata": {},
     "output_type": "execute_result"
    }
   ],
   "source": [
    "predict_vgg"
   ]
  },
  {
   "cell_type": "code",
   "execution_count": 9,
   "metadata": {
    "scrolled": true
   },
   "outputs": [],
   "source": [
    "# resnet model\n",
    "resnetmodel= load_model('./models/resnetmodel-train.hdf5')"
   ]
  },
  {
   "cell_type": "code",
   "execution_count": 11,
   "metadata": {},
   "outputs": [
    {
     "name": "stdout",
     "output_type": "stream",
     "text": [
      "2378/2378 [==============================] - 94s 39ms/step\n"
     ]
    }
   ],
   "source": [
    "predict_resnet = resnetmodel.predict(data_generator_test,steps = len(data_generator_test),verbose=1)\n"
   ]
  },
  {
   "cell_type": "code",
   "execution_count": 12,
   "metadata": {},
   "outputs": [
    {
     "data": {
      "text/plain": [
       "array([[0.19495799, 0.805042  ],\n",
       "       [0.19495799, 0.805042  ],\n",
       "       [0.19495799, 0.805042  ],\n",
       "       ...,\n",
       "       [0.19495799, 0.805042  ],\n",
       "       [0.19495799, 0.805042  ],\n",
       "       [0.19495799, 0.805042  ]], dtype=float32)"
      ]
     },
     "execution_count": 12,
     "metadata": {},
     "output_type": "execute_result"
    }
   ],
   "source": [
    "predict_resnet"
   ]
  },
  {
   "cell_type": "code",
   "execution_count": 5,
   "metadata": {
    "scrolled": true
   },
   "outputs": [
    {
     "name": "stderr",
     "output_type": "stream",
     "text": [
      "C:\\Users\\Ben\\anaconda3\\envs\\tensorflowgpu\\lib\\site-packages\\ipykernel_launcher.py:6: UserWarning: Boolean Series key will be reindexed to match DataFrame index.\n",
      "  \n"
     ]
    }
   ],
   "source": [
    "#inception model\n",
    "inceptionmodel= load_model('./models/inceptionmodel-train.hdf5')"
   ]
  },
  {
   "cell_type": "code",
   "execution_count": 6,
   "metadata": {},
   "outputs": [
    {
     "name": "stdout",
     "output_type": "stream",
     "text": [
      "2378/2378 [==============================] - 174s 73ms/step\n"
     ]
    }
   ],
   "source": [
    "predict_inception = inceptionmodel.predict(data_generator_test,steps = len(data_generator_test),verbose=1)\n"
   ]
  },
  {
   "cell_type": "code",
   "execution_count": 7,
   "metadata": {},
   "outputs": [
    {
     "data": {
      "text/plain": [
       "array([[0.19546415, 0.80453587],\n",
       "       [0.19546415, 0.80453587],\n",
       "       [0.19546415, 0.80453587],\n",
       "       ...,\n",
       "       [0.19546415, 0.80453587],\n",
       "       [0.19546415, 0.80453587],\n",
       "       [0.19546415, 0.80453587]], dtype=float32)"
      ]
     },
     "execution_count": 7,
     "metadata": {},
     "output_type": "execute_result"
    }
   ],
   "source": [
    "predict_inception"
   ]
  }
 ],
 "metadata": {
  "kernelspec": {
   "display_name": "Python 3",
   "language": "python",
   "name": "python3"
  },
  "language_info": {
   "codemirror_mode": {
    "name": "ipython",
    "version": 3
   },
   "file_extension": ".py",
   "mimetype": "text/x-python",
   "name": "python",
   "nbconvert_exporter": "python",
   "pygments_lexer": "ipython3",
   "version": "3.6.12"
  }
 },
 "nbformat": 4,
 "nbformat_minor": 4
}
